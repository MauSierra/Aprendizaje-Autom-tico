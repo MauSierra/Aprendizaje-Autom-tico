{
 "cells": [
  {
   "cell_type": "markdown",
   "id": "8ab411e5",
   "metadata": {},
   "source": [
    "# Tarea 1  - Tu primer código en Python\n",
    "\n",
    "Para esta tarea decidí hacer un código el cual juega piedra, papel o tijera contra ti. El chiste es que puedes escoger dos openentes uno que juega de manera aleatoria y otro que siempre te va a ganar."
   ]
  },
  {
   "cell_type": "code",
   "execution_count": 26,
   "id": "8a65306f",
   "metadata": {},
   "outputs": [],
   "source": [
    "import random\n",
    "def Juguemos(): #Definimos la funcion que comienza el juego\n",
    "    #Selecciona la dificultas\n",
    "    while True: #Mientras sea Verdad para que no avance hasta que la clave compartida sea correcta\n",
    "        Nivel = input('Bienvenido selecciona tu dificultad: \\n 1 - Normal \\n 2 - Extremo \\n Porfavor escribe el número:') #Permite escoger la dificultad del oponente\n",
    "        try:\n",
    "            int(Nivel) == 1 or int(Nivel) == 2 #Si el jugador no escogio 1 o 2 lo hara volver a escoger otro numero\n",
    "            Nivel = int(Nivel)\n",
    "            break\n",
    "        except:\n",
    "            print('El valor seleccionado se encuentra fuera del rango o no es número porfavor intente de nuevo')\n",
    "    \n",
    "    #Selecciona Piedra, papel o tijera\n",
    "    while True:\n",
    "        Jugador = input('Selecciona \\n 1 - Piedra👊 \\n 2 - Papel🖐️ \\n 3 - Tijera✌️')\n",
    "        try:\n",
    "            int(Jugador) in [1,2,3] #Si el jugador no escogio 1, 2 o 3 lo hara volver a escoger otro numero\n",
    "            Jugador = int(Jugador)\n",
    "            break\n",
    "        except:\n",
    "            print('El valor seleccionado se encuentra fuera del rango o no es número porfavor intente de nuevo')\n",
    "    \n",
    "    #La máquina selecciona su opción    \n",
    "    Trampa = {1:2,2:3,3:1}\n",
    "    if Nivel == 1:\n",
    "        Maquina = random.randrange(1,3) #Selecciona un valor aleatorio entre 1 y 3\n",
    "    else:\n",
    "        Maquina = int(Trampa[int(Jugador)]) #Selecciona la opcion que le ganara al jugador\n",
    "        print(Maquina)\n",
    "\n",
    "    #Comienza el Juego    \n",
    "    print('1,2,3 \\n Piedra, Papel o Tijera')\n",
    "    if Jugador == Maquina:\n",
    "        print('Empate')\n",
    "    elif Jugador == 1:\n",
    "        if Maquina == 2:\n",
    "            print('Perdiste: \\n Tú 👊 vs La Maquina 🖐️')\n",
    "        elif Maquina == 3:\n",
    "            print('Ganaste: \\n Tú 👊 vs La Maquina ✌️')\n",
    "    elif Jugador == 2:\n",
    "        if Maquina == 1:\n",
    "            print('Ganaste: \\n Tú 🖐️ vs La Maquina 👊')\n",
    "        elif Maquina == 3:\n",
    "            print('Perdiste: \\n Tú 🖐️ vs La Maquina ✌️')\n",
    "    else:\n",
    "        if Maquina == 1:\n",
    "            print('Perdiste: \\n Tú ✌️ vs La Maquina 👊')\n",
    "        elif Maquina == 2:\n",
    "            print('Ganaste: \\n Tú ✌️ vs La Maquina 🖐️')\n",
    "\n",
    "            "
   ]
  },
  {
   "cell_type": "code",
   "execution_count": 27,
   "id": "c2bf35d5",
   "metadata": {},
   "outputs": [
    {
     "name": "stdout",
     "output_type": "stream",
     "text": [
      "1,2,3 \n",
      " Piedra, Papel o Tijera\n",
      "Empate\n"
     ]
    }
   ],
   "source": [
    "Juguemos()"
   ]
  }
 ],
 "metadata": {
  "kernelspec": {
   "display_name": "base",
   "language": "python",
   "name": "python3"
  },
  "language_info": {
   "codemirror_mode": {
    "name": "ipython",
    "version": 3
   },
   "file_extension": ".py",
   "mimetype": "text/x-python",
   "name": "python",
   "nbconvert_exporter": "python",
   "pygments_lexer": "ipython3",
   "version": "3.12.5"
  }
 },
 "nbformat": 4,
 "nbformat_minor": 5
}
